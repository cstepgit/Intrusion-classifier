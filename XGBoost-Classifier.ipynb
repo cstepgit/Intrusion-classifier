{
 "cells": [
  {
   "metadata": {
    "ExecuteTime": {
     "end_time": "2025-03-21T20:42:13.786274Z",
     "start_time": "2025-03-21T20:42:13.130083Z"
    }
   },
   "cell_type": "code",
   "source": [
    "import pandas as pd\n",
    "from sklearn.preprocessing import LabelEncoder\n",
    "from sklearn.model_selection import train_test_split\n",
    "from xgboost import XGBClassifier\n",
    "from sklearn.metrics import accuracy_score, classification_report, confusion_matrix\n",
    "import matplotlib.pyplot as plt\n",
    "import seaborn as sns\n",
    "import numpy as np\n",
    "\n",
    "# Load data\n",
    "file_path = \"Data/Train_data.csv\"\n",
    "df = pd.read_csv(file_path)\n",
    "\n",
    "# Encode categorical features\n",
    "categorical_columns = df.select_dtypes(include='object').columns\n",
    "for col in categorical_columns:\n",
    "    df[col] = LabelEncoder().fit_transform(df[col])\n",
    "\n",
    "# Split data\n",
    "X = df.drop(columns='class')\n",
    "y = df['class']\n",
    "X_train, X_test, y_train, y_test = train_test_split(X, y, test_size=0.2, random_state=42)\n",
    "\n",
    "# Train XGBoost model\n",
    "xgb_model = XGBClassifier(n_estimators=200, learning_rate=0.1, max_depth=6, random_state=42)\n",
    "xgb_model.fit(X_train, y_train)\n",
    "\n",
    "# Predictions and evaluation\n",
    "y_pred = xgb_model.predict(X_test)\n",
    "print(\"Accuracy:\", accuracy_score(y_test, y_pred))\n",
    "print(\"Classification Report:\\n\", classification_report(y_test, y_pred))\n",
    "\n",
    "# Plot confusion matrix\n",
    "conf_matrix = confusion_matrix(y_test, y_pred)\n",
    "plt.figure(figsize=(6, 5))\n",
    "sns.heatmap(conf_matrix, annot=True, fmt='d', cmap=\"Blues\")\n",
    "plt.xlabel(\"Predicted\")\n",
    "plt.ylabel(\"Actual\")\n",
    "plt.title(\"XGBoost Confusion Matrix\")\n",
    "plt.show()\n",
    "\n",
    "# Feature importance and selection (optional)\n",
    "feature_importance = xgb_model.feature_importances_\n",
    "features = X.columns\n",
    "sorted_indices = np.argsort(feature_importance)[::-1]\n",
    "\n",
    "print(\"\\nTop 10 Important Features:\")\n",
    "for i in sorted_indices[:10]:\n",
    "    print(f\"{features[i]}: {feature_importance[i]:.4f}\")\n",
    "\n",
    
    "sorted_importances = feature_importance[sorted_indices]\n",
    "cumulative_importance = np.cumsum(sorted_importances)\n",
    "selected_features = features[sorted_indices][cumulative_importance <= 0.95]\n",
    "print(\"Selected Features (95% Importance):\", selected_features.tolist())\n",
    "print(\"Number of Selected Features:\", len(selected_features))\n"
   ],
   "id": "1c8c2be8035ba190",
   "outputs": [
    {
     "name": "stdout",
     "output_type": "stream",
     "text": [
      "Accuracy: 0.9984123834094066\n",
      "Classification Report:\n",
      "               precision    recall  f1-score   support\n",
      "\n",
      "           0       1.00      1.00      1.00      2365\n",
      "           1       1.00      1.00      1.00      2674\n",
      "\n",
      "    accuracy                           1.00      5039\n",
      "   macro avg       1.00      1.00      1.00      5039\n",
      "weighted avg       1.00      1.00      1.00      5039\n",
      "\n"
     ]
    },
    {
     "data": {
      "text/plain": [
       "<Figure size 600x500 with 2 Axes>"
      ],
      "image/png": "[encoded data removed]"
     },
     "metadata": {},
     "output_type": "display_data"
    },
    {
     "name": "stdout",
     "output_type": "stream",
     "text": [
      "\n",
      "Top 10 Important Features:\n",
      "src_bytes: 0.3581\n",
      "protocol_type: 0.1071\n",
      "hot: 0.0742\n",
      "count: 0.0720\n",
      "diff_srv_rate: 0.0574\n",
      "dst_host_same_src_port_rate: 0.0437\n",
      "dst_host_srv_count: 0.0362\n",
      "dst_bytes: 0.0300\n",
      "logged_in: 0.0217\n",
      "dst_host_srv_diff_host_rate: 0.0208\n",
      "Selected Features (95% Importance): ['src_bytes', 'protocol_type', 'hot', 'count', 'diff_srv_rate', 'dst_host_same_src_port_rate', 'dst_host_srv_count', 'dst_bytes', 'logged_in', 'dst_host_srv_diff_host_rate', 'dst_host_srv_rerror_rate', 'srv_count', 'root_shell', 'flag', 'service', 'dst_host_serror_rate', 'dst_host_same_srv_rate', 'duration', 'dst_host_rerror_rate', 'dst_host_diff_srv_rate']\n",
      "Number of Selected Features: 20\n"
     ]
    }
   ],
   "execution_count": 4
  },
  {
   "metadata": {},
   "cell_type": "code",
   "outputs": [],
   "execution_count": null,
   "source": "",
   "id": "7318c72fc66b7ffd"
  }
 ],
 "metadata": {
  "kernelspec": {
   "display_name": "Python 3",
   "language": "python",
   "name": "python3"
  },
  "language_info": {
   "codemirror_mode": {
    "name": "ipython",
    "version": 2
   },
   "file_extension": ".py",
   "mimetype": "text/x-python",
   "name": "python",
   "nbconvert_exporter": "python",
   "pygments_lexer": "ipython2",
   "version": "2.7.6"
  }
 },
 "nbformat": 4,
 "nbformat_minor": 5
}
